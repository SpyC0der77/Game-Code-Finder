{
  "nbformat": 4,
  "nbformat_minor": 0,
  "metadata": {
    "colab": {
      "provenance": []
    },
    "kernelspec": {
      "name": "python3",
      "display_name": "Python 3"
    },
    "language_info": {
      "name": "python"
    }
  },
  "cells": [
    {
      "cell_type": "markdown",
      "source": [
        "Quizizz Game Finder"
      ],
      "metadata": {
        "id": "_55ahH_k4RMw"
      }
    },
    {
      "cell_type": "code",
      "execution_count": null,
      "metadata": {
        "id": "eynXEmLK4Lw1"
      },
      "outputs": [],
      "source": [
        "import requests\n",
        "import random\n",
        "import json\n",
        "import threading\n",
        "\n",
        "# Initialize the file\n",
        "with open(\"codes.txt\", \"w\") as f:\n",
        "    pass\n",
        "\n",
        "print(\"Starting\")\n",
        "print(\"To use, go to https://quizizz.com/join\")\n",
        "\n",
        "# Define the function that each thread will run\n",
        "def check_room():\n",
        "    while True:\n",
        "        pin = str(random.randint(111111, 999999))\n",
        "        url = \"https://game.quizizz.com/play-api/v5/checkRoom\"\n",
        "\n",
        "        data = {\n",
        "            \"roomCode\": pin\n",
        "        }\n",
        "\n",
        "        response = requests.post(url, json=data).json()\n",
        "        if \"success\" in response:\n",
        "            responseCode = response['success']\n",
        "        else:\n",
        "            if response.get(\"room\", {}).get(\"totalPlayers\") > 1:\n",
        "                data = \"Pin: \" + pin + \" Players: \" + str(response.get(\"room\", {}).get(\"totalPlayers\")) + \" Host: \" + str(response.get(\"room\", {}).get(\"hostOccupation\")) + \" State: \" + str(response.get(\"room\", {}).get(\"state\") + \" Type: \" + str(response.get(\"room\", {}).get(\"type\")))\n",
        "                print(\"Adding: \" + data)\n",
        "                with open(\"codes.txt\", \"a\") as f:\n",
        "                    f.write(data + \"\\n\")\n",
        "\n",
        "\n",
        "\n",
        "# Create and start threads\n",
        "threads = []\n",
        "for i in range(15):\n",
        "    t = threading.Thread(target=check_room)\n",
        "    t.start()\n",
        "    threads.append(t)\n",
        "\n",
        "# Optionally, wait for all threads to complete\n",
        "for t in threads:\n",
        "    t.join()"
      ]
    },
    {
      "cell_type": "markdown",
      "source": [
        "Gimkit"
      ],
      "metadata": {
        "id": "G2dD15Y34T_g"
      }
    },
    {
      "cell_type": "code",
      "source": [
        "import requests\n",
        "import random\n",
        "import json\n",
        "import threading\n",
        "print(\"Starting\")\n",
        "print(\"To use, go to https://gimkit.com/join\")\n",
        "\n",
        "# Define the function that each thread will run\n",
        "def check_room():\n",
        "    while True:\n",
        "        pin = str(random.randint(0, 999999)).zfill(6)\n",
        "        url = \"https://www.gimkit.com/api/matchmaker/find-info-from-code\"\n",
        "\n",
        "        data = {\n",
        "            \"code\": pin\n",
        "        }\n",
        "\n",
        "        response = requests.post(url, json=data).json()\n",
        "        if \"message\" in response:\n",
        "            responseCode = response['message']\n",
        "        else:\n",
        "          print(pin + \" - \" + str(response['useRandomNamePicker']))\n",
        "\n",
        "\n",
        "# Create and start threads\n",
        "threads = []\n",
        "for i in range(20):\n",
        "    t = threading.Thread(target=check_room)\n",
        "    t.start()\n",
        "    threads.append(t)\n",
        "    print(\"Thread \" + str(i + 1) + \" initialized\")\n",
        "\n",
        "# Optionally, wait for all threads to complete\n",
        "for t in threads:\n",
        "    t.join()"
      ],
      "metadata": {
        "id": "zCNfcTjq4WU-"
      },
      "execution_count": null,
      "outputs": []
    }
  ]
}